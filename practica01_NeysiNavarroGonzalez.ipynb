{
  "cells": [
    {
      "cell_type": "markdown",
      "metadata": {
        "id": "view-in-github",
        "colab_type": "text"
      },
      "source": [
        "<a href=\"https://colab.research.google.com/github/Neysi99/Practica01-Mineria-ISW911/blob/main/practica01_NeysiNavarroGonzalez.ipynb\" target=\"_parent\"><img src=\"https://colab.research.google.com/assets/colab-badge.svg\" alt=\"Open In Colab\"/></a>"
      ]
    },
    {
      "cell_type": "markdown",
      "metadata": {
        "id": "XMYkAAvkNSyA"
      },
      "source": [
        "# Encuesta Aeropuerto-colabs"
      ]
    },
    {
      "cell_type": "code",
      "execution_count": null,
      "metadata": {
        "id": "AhhXLC5rNVlY"
      },
      "outputs": [],
      "source": [
        "# librerias\n",
        "import pandas as pd\n",
        "import matplotlib.pyplot as plt\n",
        "import numpy as np\n",
        "import seaborn as sns"
      ]
    },
    {
      "cell_type": "code",
      "execution_count": null,
      "metadata": {
        "colab": {
          "base_uri": "https://localhost:8080/"
        },
        "id": "F9Mm9NTrNr0R",
        "outputId": "24f52e66-14be-4b0d-d67a-02833af3ad34"
      },
      "outputs": [
        {
          "name": "stdout",
          "output_type": "stream",
          "text": [
            "(129880, 24)\n"
          ]
        }
      ],
      "source": [
        "# Cargar datos\n",
        "filename = 'https://raw.githubusercontent.com/utn-frocha/datos/main/encuesta_aeropuerto.csv'\n",
        "datos = pd.read_csv(filename, header=0)\n",
        "print(datos.shape)"
      ]
    },
    {
      "cell_type": "code",
      "execution_count": null,
      "metadata": {
        "id": "wDwbgg9NN1ZV"
      },
      "outputs": [],
      "source": [
        "# Convertir a dataframe\n",
        "datos=pd.DataFrame(datos)"
      ]
    },
    {
      "cell_type": "markdown",
      "metadata": {
        "id": "imi4xvJPN6zw"
      },
      "source": [
        "Detección de Variables"
      ]
    },
    {
      "cell_type": "code",
      "execution_count": null,
      "metadata": {
        "id": "lbpke2fNN_we"
      },
      "outputs": [],
      "source": [
        "#Explorando la estructura del dataframe\n",
        "datos.info()"
      ]
    },
    {
      "cell_type": "code",
      "execution_count": null,
      "metadata": {
        "colab": {
          "base_uri": "https://localhost:8080/"
        },
        "id": "1Ts4gLdyOFyh",
        "outputId": "0792074a-1854-4f5b-c0b3-2ec35f079f19"
      },
      "outputs": [
        {
          "name": "stdout",
          "output_type": "stream",
          "text": [
            "Cantidad de hombres: 63981\n",
            "Cantidad de mujeres: 65899\n"
          ]
        }
      ],
      "source": [
        "# 1.Cuál es la cantidad de Hombre y Mujeres del conjunto de datos\n",
        "\n",
        "counts = datos[\"Gender\"].value_counts()\n",
        "\n",
        "print(\"Cantidad de hombres:\", counts[\"Male\"])\n",
        "print(\"Cantidad de mujeres:\", counts[\"Female\"])\n"
      ]
    },
    {
      "cell_type": "code",
      "execution_count": null,
      "metadata": {
        "colab": {
          "base_uri": "https://localhost:8080/"
        },
        "id": "223aWxZZP-QV",
        "outputId": "dc8cd734-6170-40b4-d1f3-1bededc2c96c"
      },
      "outputs": [
        {
          "name": "stdout",
          "output_type": "stream",
          "text": [
            "La edad promedio es de 39\n"
          ]
        }
      ],
      "source": [
        "# 2.Cual es la edad promedio del conjunto de datos\n",
        "\n",
        "promedio_edad=round(datos['Age'].mean())\n",
        "print(f'La edad promedio es de {promedio_edad}')"
      ]
    },
    {
      "cell_type": "code",
      "execution_count": null,
      "metadata": {
        "colab": {
          "base_uri": "https://localhost:8080/"
        },
        "id": "fEqzZcSORAN7",
        "outputId": "b6811ed0-b4cf-446b-8409-f2e915dcdda8"
      },
      "outputs": [
        {
          "name": "stdout",
          "output_type": "stream",
          "text": [
            "Edad promedio de hombres: 40.0\n",
            "Edad promedio de mujeres: 39.0\n"
          ]
        }
      ],
      "source": [
        "# 3.Cuál es la edad promedio de hombres y mujeres\n",
        "\n",
        "edad_promedio_por_genero = round(datos.groupby(\"Gender\")[\"Age\"].mean())\n",
        "\n",
        "print(\"Edad promedio de hombres:\", edad_promedio_por_genero[\"Male\"])\n",
        "print(\"Edad promedio de mujeres:\", edad_promedio_por_genero[\"Female\"])\n"
      ]
    },
    {
      "cell_type": "code",
      "execution_count": null,
      "metadata": {
        "colab": {
          "base_uri": "https://localhost:8080/"
        },
        "id": "I--xP1mHT8sb",
        "outputId": "2996d97e-211a-404a-ec47-4b5612121a9b"
      },
      "outputs": [
        {
          "name": "stdout",
          "output_type": "stream",
          "text": [
            "Distancia mínima por tipo de cliente:\n",
            "Customer Type\n",
            "Loyal Customer       31\n",
            "disloyal Customer    31\n",
            "Name: min, dtype: int64\n",
            "\n",
            "Distancia máxima por tipo de cliente:\n",
            "Customer Type\n",
            "Loyal Customer       4983\n",
            "disloyal Customer    4963\n",
            "Name: max, dtype: int64\n"
          ]
        }
      ],
      "source": [
        "# 4.Cuál es la distancia mínima y máxima agrupado por “Customer Type”\n",
        "\n",
        "distancia_por_tipo_cliente = datos.groupby(\"Customer Type\")[\"Flight Distance\"].agg([\"min\", \"max\"])\n",
        "\n",
        "print(\"Distancia mínima por tipo de cliente:\")\n",
        "print(distancia_por_tipo_cliente[\"min\"])\n",
        "print(\"\\nDistancia máxima por tipo de cliente:\")\n",
        "print(distancia_por_tipo_cliente[\"max\"])"
      ]
    },
    {
      "cell_type": "code",
      "execution_count": null,
      "metadata": {
        "colab": {
          "base_uri": "https://localhost:8080/"
        },
        "id": "B3jn5ClVWv30",
        "outputId": "62e3d47a-9ccf-4b3e-b174-30cb94d209c1"
      },
      "outputs": [
        {
          "name": "stdout",
          "output_type": "stream",
          "text": [
            "La mediana de distancia de vuelo por tipo de viaje:\n",
            "Type of Travel\n",
            "Business travel    985.0\n",
            "Personal Travel    628.0\n",
            "Name: Flight Distance, dtype: float64\n"
          ]
        }
      ],
      "source": [
        "# 5.Cual es la mediana de distancia de vuelo por “Type of Travel”\n",
        "\n",
        "mediana_distancia_por_tipo_viaje = datos.groupby(\"Type of Travel\")[\"Flight Distance\"].median()\n",
        "\n",
        "print(\"La mediana de distancia de vuelo por tipo de viaje:\")\n",
        "print(mediana_distancia_por_tipo_viaje)"
      ]
    },
    {
      "cell_type": "code",
      "execution_count": null,
      "metadata": {
        "colab": {
          "base_uri": "https://localhost:8080/"
        },
        "id": "QKTzDVSxXTD4",
        "outputId": "846aee11-a3af-4b55-d3aa-a61b04c13f18"
      },
      "outputs": [
        {
          "name": "stdout",
          "output_type": "stream",
          "text": [
            "Cantidad de hombres y mujeres por satisfacción:\n",
            "satisfaction             Gender\n",
            "neutral or dissatisfied  Female    37630\n",
            "                         Male      35822\n",
            "satisfied                Female    28269\n",
            "                         Male      28159\n",
            "dtype: int64\n"
          ]
        }
      ],
      "source": [
        "# 6.Cual es la cantidad de hombres y mujeres por “satisfaction”\n",
        "\n",
        "cantidad_satisfaccion_y_genero = datos.groupby([\"satisfaction\", \"Gender\"]).size()\n",
        "\n",
        "print(\"Cantidad de hombres y mujeres por satisfacción:\")\n",
        "print(cantidad_satisfaccion_y_genero)"
      ]
    },
    {
      "cell_type": "code",
      "execution_count": null,
      "metadata": {
        "colab": {
          "base_uri": "https://localhost:8080/"
        },
        "id": "uTjY_QvaX_ZC",
        "outputId": "69a7ed2a-677c-49da-d7b2-28c9ef8f213f"
      },
      "outputs": [
        {
          "name": "stdout",
          "output_type": "stream",
          "text": [
            "Número de personas del Type of Travel = Business que dieron una calificación de 5 al Inflight wifi service y están satisfechas:\n",
            "12593\n"
          ]
        }
      ],
      "source": [
        "# 7.Cuantas personas del  Type of Travel  = “Business” le dieron una calificación de 5 al “Inflight wifi service”\n",
        "\n",
        "filtro = (datos[\"Type of Travel\"] == \"Business travel\") & (datos[\"Inflight wifi service\"] == 5)\n",
        "\n",
        "satisfechos = datos.loc[filtro][\"satisfaction\"].value_counts()[\"satisfied\"]\n",
        "\n",
        "print(\"Número de personas del Type of Travel = Business que dieron una calificación de 5 al Inflight wifi service y están satisfechas:\")\n",
        "print(satisfechos)"
      ]
    },
    {
      "cell_type": "code",
      "execution_count": null,
      "metadata": {
        "colab": {
          "base_uri": "https://localhost:8080/"
        },
        "id": "Iv12FcdqZyFI",
        "outputId": "2304bf19-c9ed-4877-fd8a-c4f1a02e124f"
      },
      "outputs": [
        {
          "name": "stdout",
          "output_type": "stream",
          "text": [
            "Cantidad de personas por clase:\n",
            "Business    62160\n",
            "Eco         58309\n",
            "Eco Plus     9411\n",
            "Name: Class, dtype: int64\n"
          ]
        }
      ],
      "source": [
        "# 8.Cual es la cantidad de personas por “Class”\n",
        "\n",
        "cantidad_por_clase = datos[\"Class\"].value_counts()\n",
        "\n",
        "print(\"Cantidad de personas por clase:\")\n",
        "print(cantidad_por_clase)"
      ]
    },
    {
      "cell_type": "code",
      "execution_count": null,
      "metadata": {
        "colab": {
          "base_uri": "https://localhost:8080/"
        },
        "id": "y8LQNdjNaIR_",
        "outputId": "43217507-5f33-4009-da64-02df1c6ee3ae"
      },
      "outputs": [
        {
          "name": "stdout",
          "output_type": "stream",
          "text": [
            "Porcentaje de hombres en la clase Eco Plus:\n",
            "47.231962596961004\n",
            "Porcentaje de mujeres en la clase Eco Plus:\n",
            "52.76803740303899\n"
          ]
        }
      ],
      "source": [
        "# 9.Cuál es el porcentaje de hombres y mujeres que usan en clase “Eco Plus”\n",
        "\n",
        "filtro = datos[\"Class\"] == \"Eco Plus\"\n",
        "ecoplus_dt = datos.loc[filtro]\n",
        "\n",
        "\n",
        "total_ecoplus = len(ecoplus_dt)\n",
        "hombres_ecoplus = len(ecoplus_dt.loc[ecoplus_dt[\"Gender\"] == \"Male\"])\n",
        "mujeres_ecoplus = len(ecoplus_dt.loc[ecoplus_dt[\"Gender\"] == \"Female\"])\n",
        "porcentaje_hombres_ecoplus = (hombres_ecoplus / total_ecoplus) * 100\n",
        "porcentaje_mujeres_ecoplus = (mujeres_ecoplus / total_ecoplus) * 100\n",
        "\n",
        "print(\"Porcentaje de hombres en la clase Eco Plus:\")\n",
        "print(porcentaje_hombres_ecoplus)\n",
        "print(\"Porcentaje de mujeres en la clase Eco Plus:\")\n",
        "print(porcentaje_mujeres_ecoplus)"
      ]
    },
    {
      "cell_type": "code",
      "execution_count": null,
      "metadata": {
        "id": "3E2frmtba9IL"
      },
      "outputs": [],
      "source": [
        "# 10.Cuál es el porcentaje de hombres y mujeres que le dan una clasificación de 5 a “Food and drink”\n",
        "\n",
        "filtro = datos[\"Food and drink\"] == 5\n",
        "calif_5_dt = datos.loc[filtro]\n",
        "\n",
        "total_calif_5 = len(calif_5_dt)\n",
        "hombres_calif_5 = len(calif_5_dt.loc[calif_5_dt[\"Gender\"] == \"Male\"])\n",
        "mujeres_calif_5 = len(calif_5_dt.loc[calif_5_dt[\"Gender\"] == \"Female\"])\n",
        "porcentaje_hombres_calif_5 = (hombres_calif_5 / total_calif_5) * 100\n",
        "porcentaje_mujeres_calif_5 = (mujeres_calif_5 / total_calif_5) * 100\n",
        "\n",
        "print(\"Porcentaje de hombres que le dieron una calificación de 5 a Food and drink:\")\n",
        "print(porcentaje_hombres_calif_5)\n",
        "print(\"Porcentaje de mujeres que le dieron una calificación de 5 a Food and drink:\")\n",
        "print(porcentaje_mujeres_calif_5)"
      ]
    },
    {
      "cell_type": "code",
      "execution_count": null,
      "metadata": {
        "colab": {
          "base_uri": "https://localhost:8080/"
        },
        "id": "nmcVP-uzbxBK",
        "outputId": "7b2058a6-1b2b-4981-c842-c9cb02dfa733"
      },
      "outputs": [
        {
          "name": "stdout",
          "output_type": "stream",
          "text": [
            "El promedio de edad de los pasajeros que le dieron una calificación entre 4 y 5 a Inflight wifi service es:\n",
            "39.845007794331856\n"
          ]
        }
      ],
      "source": [
        "# 11.Cual es el promedio de edad de los pasajeros que le dan una clasificación entre 4 y 5 a “Inflight wifi service”\n",
        "\n",
        "filtro = (datos[\"Inflight wifi service\"] >= 4) & (datos[\"Inflight wifi service\"] <= 5)\n",
        "wifi_service = datos.loc[filtro]\n",
        "\n",
        "promedio_edad = wifi_service[\"Age\"].mean()\n",
        "\n",
        "print(\"El promedio de edad de los pasajeros que le dieron una calificación entre 4 y 5 a Inflight wifi service es:\")\n",
        "print(promedio_edad)"
      ]
    },
    {
      "cell_type": "markdown",
      "metadata": {
        "id": "dUK45fc_fMaX"
      },
      "source": [
        "# Trabajo de Investigación "
      ]
    },
    {
      "cell_type": "markdown",
      "metadata": {
        "id": "Yuv6UWaefSjg"
      },
      "source": [
        "HIPÓTESIS NULA "
      ]
    },
    {
      "cell_type": "markdown",
      "metadata": {
        "id": "efG5UbI8gLlW"
      },
      "source": [
        "Una hipótesis nula es una suposición que se utiliza para negar o afirmar un suceso en relación a algún o algunos parámetros de una población o muestra. La afirmación de la hipótesis nula no se puede rechazar a no ser que los datos de la muestra parezcan demostrar que ésta es falsa.\n",
        "\n"
      ]
    },
    {
      "cell_type": "markdown",
      "metadata": {
        "id": "qJXYG3P-iWWS"
      },
      "source": [
        "HIPÓTESIS ALTERNATIVA"
      ]
    },
    {
      "cell_type": "markdown",
      "metadata": {
        "id": "qQbl5rrVivCt"
      },
      "source": [
        "La hipótesis alternativa es una conjetura que intenta demostrar la falsedad de la hipótesis nula, formulada en una investigación y/o un experimento siendo la hipótesis o la conclusión que el investigador quiere demostrar como verdadera "
      ]
    },
    {
      "cell_type": "markdown",
      "metadata": {
        "id": "XJg4LvGRjDfO"
      },
      "source": [
        "EJEMPLOS:"
      ]
    },
    {
      "cell_type": "markdown",
      "metadata": {
        "id": "mtIltcK2jHmm"
      },
      "source": [
        "1.Si estudiamos como hipótesis alternativa que la estatura media de la población de un pueblo de 20.000 habitantes es de 1,70 y tomamos como muestra a 50 habitantes, ha hipótesis nula sería la contraria: que la estatura media no es de 1.70; si de esos cincuenta habitantes la estatura media es de 1.70 rechazamos la hipótesis nula y aceptaremos la alternativa.\n",
        "\n",
        "2.Vamos a suponer que has realizado un estudio sobre el sueldo medio mensual en un barrio de la ciudad. Imaginémonos que de la población de ese barrio te tomaste el trabajo de encuestar a 1.000 personas, llegando a la conclusión de que el sueldo medio mensual por habitante es de 25.000 unidades monetarias.\n",
        "\n",
        "Por lo tanto, vos como investigador querés contrastar si ese sueldo medio mensual es igual a 25.000 u.m. Esta sería la conclusión de tu estudio y, por ende, también la hipótesis alternativa. Si por el contrario el sueldo medio mensual es distinto a 25.000 u.m., esto sería una conclusión contraria a la del estudio que se busca negar y, por ende, es una hipótesis nula"
      ]
    }
  ],
  "metadata": {
    "colab": {
      "provenance": [],
      "include_colab_link": true
    },
    "kernelspec": {
      "display_name": "Python 3",
      "name": "python3"
    },
    "language_info": {
      "name": "python"
    }
  },
  "nbformat": 4,
  "nbformat_minor": 0
}